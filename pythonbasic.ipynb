{
 "cells": [
  {
   "cell_type": "raw",
   "id": "ab08772f-8b01-40e6-8619-9a45f5561334",
   "metadata": {},
   "source": [
    "1)What is Python, and why is it popular ?\n",
    "python is high level programming languages which are set of instruction which are you to create various algorithms, software \n",
    "python is widely popular because its  a highe level language, easy to understand syntax ,wide of range of packages "
   ]
  },
  {
   "cell_type": "raw",
   "id": "19b9ca1a-ff1f-458e-96bf-2f9c334a30e7",
   "metadata": {},
   "source": [
    "2)What is an interpreter in Python ?\n",
    "thats reads and execute the code line by line \n"
   ]
  },
  {
   "cell_type": "raw",
   "id": "de65f363-0d81-4b8f-929b-ad0408e0a6d8",
   "metadata": {},
   "source": [
    "3)what are pre defined keyword in  pyhton ?\n",
    "have thier own instruction which are used to perform specific task such as print for,while lopp if else"
   ]
  },
  {
   "cell_type": "raw",
   "id": "95444b4c-da6b-44e6-a0fc-f8a512117099",
   "metadata": {},
   "source": [
    "4)Can keywords be used as variable names ?\n",
    "no "
   ]
  },
  {
   "cell_type": "raw",
   "id": "a969f220-a598-4dc1-a496-c0aca0ad87f6",
   "metadata": {},
   "source": [
    "5) What is mutability in Python \n",
    "mutability tha can update,change the order of the data such as list "
   ]
  },
  {
   "cell_type": "raw",
   "id": "f7426e97-eecf-4a5f-9d56-a9e8d534161a",
   "metadata": {},
   "source": [
    "6)Why are lists mutable, but tuples are immutable \n",
    "list meant to for modification after creation \n",
    "tuples are not meant to for modification after creation "
   ]
  },
  {
   "cell_type": "raw",
   "id": "60b1078e-750b-4076-87ee-05c995702d2a",
   "metadata": {},
   "source": [
    "7) What is the difference between “==” and “is” operators in Python \n",
    "both of there are similar to compare the two value "
   ]
  },
  {
   "cell_type": "raw",
   "id": "d4a28b7b-9ef2-422b-b149-10c95dd52000",
   "metadata": {},
   "source": [
    "8)What are logical operators in Python \n",
    "its is used to compare two boolean value there different kind of logical operator and ,or "
   ]
  },
  {
   "cell_type": "raw",
   "id": "4993ea55-21d0-46d6-aca4-0f98046129e9",
   "metadata": {},
   "source": [
    "9)What is type casting in Python ?\n",
    "change of datatype from string to int"
   ]
  },
  {
   "cell_type": "raw",
   "id": "116a5663-1a15-410e-9dbc-fdc04da6ee3a",
   "metadata": {},
   "source": [
    "10)What is the difference between implicit and explicit type casting \n",
    "implict that automatically typecast  the data type \n",
    "explict convert one data type to another such as float int "
   ]
  },
  {
   "cell_type": "raw",
   "id": "2a69eeb0-f41d-4cfc-9a7b-4953dc3190f7",
   "metadata": {},
   "source": [
    "11)What is the purpose of conditional statements in Python \n",
    "conditional statemenet is used to control the flow of the statment by using if, else if statment where its helps to execute certain block of after the condition met  "
   ]
  },
  {
   "cell_type": "raw",
   "id": "03e11b09-8660-4fc9-9bf3-35ad0442ee57",
   "metadata": {},
   "source": [
    "12)how does the elif statment worK?\n",
    "elif statment work simlar to nested if else where is the if condition didnt ment elif statement execute if condition didnt ment the else statement will execute"
   ]
  },
  {
   "cell_type": "raw",
   "id": "2d12fedf-9235-4f9d-b2a6-30048faae5ea",
   "metadata": {},
   "source": [
    "13)What is the difference between for and while loops \n",
    "for loop iterate the squence of element \n",
    "while is used to execute the a block of code until the condition mets "
   ]
  },
  {
   "cell_type": "raw",
   "id": "53a0997d-8c42-46e8-959e-573e85f473d3",
   "metadata": {},
   "source": [
    "14)Describe a scenario where a while loop is more suitable than a for loop\n",
    " vey useful in the condition where we have to xecute the block of condition is necessary rather the sequence of element"
   ]
  },
  {
   "cell_type": "markdown",
   "id": "40aeca00-a8ab-4e24-b30c-2a7a0447ac9f",
   "metadata": {},
   "source": [
    "Practical Question"
   ]
  },
  {
   "cell_type": "code",
   "execution_count": 1,
   "id": "c79ccfdf-c059-4b2d-b04e-4cd9d3243354",
   "metadata": {},
   "outputs": [
    {
     "name": "stdout",
     "output_type": "stream",
     "text": [
      "hello world\n"
     ]
    }
   ],
   "source": [
    "#write a program to print hello world\n",
    "print(\"hello world\")"
   ]
  },
  {
   "cell_type": "code",
   "execution_count": 2,
   "id": "62c094bc-82f3-4138-950e-8210c932e08e",
   "metadata": {},
   "outputs": [
    {
     "name": "stdin",
     "output_type": "stream",
     "text": [
      "enter your name ui\n",
      "enter the your age 78\n"
     ]
    },
    {
     "name": "stdout",
     "output_type": "stream",
     "text": [
      "your name and age  ui 78\n"
     ]
    }
   ],
   "source": [
    "#write a python program that display your name anf age \n",
    "a= input(\"enter your name\")\n",
    "b=int(input(\"enter the your age\"))\n",
    "print(\"your name and age \",a,b)"
   ]
  },
  {
   "cell_type": "code",
   "execution_count": 4,
   "id": "a5f5f839-e8e0-45ce-83b7-783e887e44f2",
   "metadata": {},
   "outputs": [
    {
     "name": "stdout",
     "output_type": "stream",
     "text": [
      "Python Keywords:\n",
      "-----------------\n",
      "False\n",
      "None\n",
      "True\n",
      "and\n",
      "as\n",
      "assert\n",
      "async\n",
      "await\n",
      "break\n",
      "class\n",
      "continue\n",
      "def\n",
      "del\n",
      "elif\n",
      "else\n",
      "except\n",
      "finally\n",
      "for\n",
      "from\n",
      "global\n",
      "if\n",
      "import\n",
      "in\n",
      "is\n",
      "lambda\n",
      "nonlocal\n",
      "not\n",
      "or\n",
      "pass\n",
      "raise\n",
      "return\n",
      "try\n",
      "while\n",
      "with\n",
      "yield\n"
     ]
    }
   ],
   "source": [
    "#write code to print all the pre-defined keyword in Python using the keyword library \n",
    "import keyword\n",
    "\n",
    "print(\"Python Keywords:\")\n",
    "print(\"-----------------\")\n",
    "for kw in keyword.kwlist:\n",
    "    print(kw)\n",
    "\n"
   ]
  },
  {
   "cell_type": "code",
   "execution_count": 10,
   "id": "8ebee9a5-9abe-4c60-9ee6-56942603d46b",
   "metadata": {},
   "outputs": [
    {
     "name": "stdout",
     "output_type": "stream",
     "text": [
      "[1, 324, 'ajay', 890, 23]\n",
      "\n",
      "[90, 324, 'ajay', 890, 23]\n",
      "\n",
      "[324, 'ajay', 890, 23]\n"
     ]
    }
   ],
   "source": [
    "# Write a program that checks if a given word is a Python keyword.\n",
    "a=[1,324,\"ajay\",890]\n",
    "a.append(23)\n",
    "print(a)\n",
    "a[0]=90\n",
    "print()\n",
    "print(a)\n",
    "print()\n",
    "a.remove(90)\n",
    "print(a)"
   ]
  },
  {
   "cell_type": "code",
   "execution_count": 13,
   "id": "b66a5850-d1bc-45d2-b253-c3266ffd6602",
   "metadata": {},
   "outputs": [
    {
     "name": "stdout",
     "output_type": "stream",
     "text": [
      "Original List: [10, 20, 30]\n",
      "Modified List: [10, 99, 30]\n",
      "Original Tuple: (10, 20, 30)\n"
     ]
    },
    {
     "ename": "TypeError",
     "evalue": "'tuple' object does not support item assignment",
     "output_type": "error",
     "traceback": [
      "\u001b[31m---------------------------------------------------------------------------\u001b[39m",
      "\u001b[31mTypeError\u001b[39m                                 Traceback (most recent call last)",
      "\u001b[36mCell\u001b[39m\u001b[36m \u001b[39m\u001b[32mIn[13]\u001b[39m\u001b[32m, line 14\u001b[39m\n\u001b[32m     11\u001b[39m \u001b[38;5;28mprint\u001b[39m(\u001b[33m\"\u001b[39m\u001b[33mOriginal Tuple:\u001b[39m\u001b[33m\"\u001b[39m, my_tuple)\n\u001b[32m     13\u001b[39m \u001b[38;5;66;03m# Try to modify an element in the tuple\u001b[39;00m\n\u001b[32m---> \u001b[39m\u001b[32m14\u001b[39m \u001b[43mmy_tuple\u001b[49m\u001b[43m[\u001b[49m\u001b[32;43m1\u001b[39;49m\u001b[43m]\u001b[49m = \u001b[32m99\u001b[39m  \n",
      "\u001b[31mTypeError\u001b[39m: 'tuple' object does not support item assignment"
     ]
    }
   ],
   "source": [
    "\"\"\"Create a list and tuple in Python, and demonstrate how attempting to change an element works differently\n",
    "for each.\"\"\"\n",
    "# Create a list\n",
    "my_list = [10, 20, 30]\n",
    "print(\"Original List:\", my_list)\n",
    "\n",
    "# Modify an element in the list\n",
    "my_list[1] = 99\n",
    "print(\"Modified List:\", my_list)\n",
    "\n",
    "# Create a tuple\n",
    "my_tuple = (10, 20, 30)\n",
    "print(\"Original Tuple:\", my_tuple)\n",
    "\n",
    "# Try to modify an element in the tuple\n",
    "my_tuple[1] = 99  \n"
   ]
  },
  {
   "cell_type": "code",
   "execution_count": 17,
   "id": "dcbc65a7-23f2-4f9d-a70e-bf1cb98b27d8",
   "metadata": {},
   "outputs": [
    {
     "name": "stdout",
     "output_type": "stream",
     "text": [
      "mutable list  [34, 'rtrtr', 'e']\n"
     ]
    },
    {
     "ename": "AttributeError",
     "evalue": "'str' object has no attribute 'remove'",
     "output_type": "error",
     "traceback": [
      "\u001b[31m---------------------------------------------------------------------------\u001b[39m",
      "\u001b[31mAttributeError\u001b[39m                            Traceback (most recent call last)",
      "\u001b[36mCell\u001b[39m\u001b[36m \u001b[39m\u001b[32mIn[17]\u001b[39m\u001b[32m, line 6\u001b[39m\n\u001b[32m      4\u001b[39m \u001b[38;5;28mprint\u001b[39m(\u001b[33m\"\u001b[39m\u001b[33mmutable list \u001b[39m\u001b[33m\"\u001b[39m,list1)\n\u001b[32m      5\u001b[39m r=\u001b[33m\"\u001b[39m\u001b[33mrm\u001b[39m\u001b[33m\"\u001b[39m;\n\u001b[32m----> \u001b[39m\u001b[32m6\u001b[39m \u001b[43mr\u001b[49m\u001b[43m.\u001b[49m\u001b[43mremove\u001b[49m(rm)\n\u001b[32m      7\u001b[39m \u001b[38;5;28mprint\u001b[39m(\u001b[33m\"\u001b[39m\u001b[33mthrow an errror \u001b[39m\u001b[33m\"\u001b[39m,r)\n",
      "\u001b[31mAttributeError\u001b[39m: 'str' object has no attribute 'remove'"
     ]
    }
   ],
   "source": [
    "#Write a function to demonstrate the behavior of mutable and immutable arguments.\n",
    "list1=[2,34,\"rtrtr\",\"e\"]\n",
    "list1.remove(2)\n",
    "print(\"mutable list \",list1)\n",
    "r=\"rm\";\n",
    "r.remove(rm)\n",
    "print(\"throw an errror \",r)\n"
   ]
  },
  {
   "cell_type": "code",
   "execution_count": 18,
   "id": "7b12d656-c75a-4194-9fab-505f5d985589",
   "metadata": {},
   "outputs": [
    {
     "name": "stdin",
     "output_type": "stream",
     "text": [
      "enter the no 12\n",
      "enter the no 2\n"
     ]
    },
    {
     "name": "stdout",
     "output_type": "stream",
     "text": [
      "addition 14\n",
      "subraction 10\n",
      "dividion 6.0\n",
      "modulo 0\n",
      "multiplication 24\n"
     ]
    }
   ],
   "source": [
    "#Write a program that performs basic arithmetic operations on two user-input numbers.\n",
    "a=int(input(\"enter the no\"))\n",
    "b=int(input(\"enter the no\"))\n",
    "print(\"addition\",a+b)\n",
    "print(\"subraction\",a-b)\n",
    "print(\"dividion\",a/b)\n",
    "print(\"modulo\",a%b)\n",
    "print(\"multiplication\",a*b)"
   ]
  },
  {
   "cell_type": "code",
   "execution_count": 19,
   "id": "cfd2fa30-fe60-45d4-bde6-5954ec17925d",
   "metadata": {},
   "outputs": [
    {
     "name": "stdout",
     "output_type": "stream",
     "text": [
      "False\n",
      "False\n",
      "True\n",
      "True\n",
      "False\n",
      "True\n"
     ]
    }
   ],
   "source": [
    "#Write a program to demonstrate the use of logical operators.\n",
    "a=True\n",
    "b=False\n",
    "print(a and b)\n",
    "print(b and a)\n",
    "print(a or b)\n",
    "print(b or a)\n",
    "print(not a)\n",
    "print(not b)"
   ]
  },
  {
   "cell_type": "code",
   "execution_count": 31,
   "id": "d3380b1b-4f19-4c8e-8589-fa166f53af25",
   "metadata": {},
   "outputs": [
    {
     "name": "stdin",
     "output_type": "stream",
     "text": [
      "enter the value 0\n"
     ]
    },
    {
     "name": "stdout",
     "output_type": "stream",
     "text": [
      "before the typecasting 0\n",
      "after the type casting 0\n",
      "after the type casting 0.0\n",
      "after the type casting True\n"
     ]
    }
   ],
   "source": [
    "# Write a Python program to convert user input from string to integer, float, and boolean types.\n",
    "strg=input(\"enter the value\")\n",
    "print(\"before the typecasting\",strg)\n",
    "i=int(strg)\n",
    "print(\"after the type casting\",i)\n",
    "f=float(strg)\n",
    "print(\"after the type casting\",f)\n",
    "b=bool(strg)\n",
    "print(\"after the type casting\",b)"
   ]
  },
  {
   "cell_type": "code",
   "execution_count": 45,
   "id": "62262c27-6217-47f5-9e77-5118769363d8",
   "metadata": {},
   "outputs": [
    {
     "name": "stdout",
     "output_type": "stream",
     "text": [
      "2.0\n",
      "34\n"
     ]
    },
    {
     "data": {
      "text/plain": [
       "str"
      ]
     },
     "execution_count": 45,
     "metadata": {},
     "output_type": "execute_result"
    }
   ],
   "source": [
    "#Write code to demonstrate type casting with list elements\n",
    "list1=[2,34,\"rtrtr\",\"e\"]\n",
    "f=float(list1[0])\n",
    "print(f)\n",
    "s=str(list1[1])\n",
    "print(s)\n",
    "type(s[1])"
   ]
  },
  {
   "cell_type": "code",
   "execution_count": 50,
   "id": "473c59b4-0a39-4f35-99db-7a649982b3fc",
   "metadata": {},
   "outputs": [
    {
     "name": "stdin",
     "output_type": "stream",
     "text": [
      "enter the no  -22\n"
     ]
    },
    {
     "name": "stdout",
     "output_type": "stream",
     "text": [
      "given no is less then zero\n"
     ]
    }
   ],
   "source": [
    "# Write a program that checks if a number is positive, negative, or zero\n",
    "a=int(input(\"enter the no \"))\n",
    "if a==0:\n",
    "    print(\"given no is zero\")\n",
    "elif a>0:\n",
    "    print(\"given no is greater then zero\")\n",
    "else:\n",
    "    print(\"given no is less then zero\" )"
   ]
  },
  {
   "cell_type": "code",
   "execution_count": 54,
   "id": "bda80f4f-0a63-444b-9b66-3c6fe54ffe98",
   "metadata": {},
   "outputs": [
    {
     "name": "stdout",
     "output_type": "stream",
     "text": [
      "1 2 3 4 5 6 7 8 9 10 "
     ]
    }
   ],
   "source": [
    "# Write a for loop to print numbers from 1 to 10.\n",
    "for i in range(1,11):\n",
    "    print(i,end=\" \")"
   ]
  },
  {
   "cell_type": "code",
   "execution_count": null,
   "id": "c8cd1cd0-a9b7-4161-8436-2c40d02a377d",
   "metadata": {},
   "outputs": [],
   "source": [
    "#Write a Python program to find the sum of all even numbers between 1 and 50.\n",
    "total = 0\n",
    "\n",
    "\n",
    "for i in range(1, 51):\n",
    "    if i % 2 == 0: \n",
    "        total += i  \n",
    "\n",
    "print(\"Sum of even numbers between 1 and 50 is:\", total)\n"
   ]
  },
  {
   "cell_type": "code",
   "execution_count": null,
   "id": "8e7ab1aa-b1e8-4302-9dd6-90b698111ef6",
   "metadata": {},
   "outputs": [],
   "source": [
    "# Write a program to reverse a string using a while loop."
   ]
  },
  {
   "cell_type": "code",
   "execution_count": null,
   "id": "3873824e-b8bf-48e7-8a5a-1ac7bde57b6a",
   "metadata": {},
   "outputs": [],
   "source": [
    "# Write a Python program to calculate the factorial of a number provided by the user using a while loop"
   ]
  }
 ],
 "metadata": {
  "kernelspec": {
   "display_name": "Python 3 (ipykernel)",
   "language": "python",
   "name": "python3"
  },
  "language_info": {
   "codemirror_mode": {
    "name": "ipython",
    "version": 3
   },
   "file_extension": ".py",
   "mimetype": "text/x-python",
   "name": "python",
   "nbconvert_exporter": "python",
   "pygments_lexer": "ipython3",
   "version": "3.13.2"
  }
 },
 "nbformat": 4,
 "nbformat_minor": 5
}
